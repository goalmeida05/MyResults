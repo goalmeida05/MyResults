{
  "nbformat": 4,
  "nbformat_minor": 0,
  "metadata": {
    "colab": {
      "provenance": [],
      "collapsed_sections": [
        "Zu50h-arMXcy",
        "kmMdImglMmBa",
        "-H-cD0Lac1ld"
      ]
    },
    "kernelspec": {
      "name": "python3",
      "display_name": "Python 3"
    },
    "language_info": {
      "name": "python"
    }
  },
  "cells": [
    {
      "cell_type": "markdown",
      "source": [
        "# Combinando as pcollections"
      ],
      "metadata": {
        "id": "HlIelHvtLi4T"
      }
    },
    {
      "cell_type": "markdown",
      "source": [
        "Agora nos resta agrupar os dois datasets! Isto é, unir os dois pcollections chuvas e dengue.\n",
        "\n",
        "Devemos fazer alguns tratamentos pois existem datas que não batem nas pcollections. Como você deve ter percebido o tempo de leitura dos arquivos é muito grande, imagine agora que teremos que ler dois datasets juntos! Para facilitar nossa analise, vamos tirar uma amostra desses dois arquivos e criar outros dois arquivos com essa amostra com um volume menor de dados. Abra seu arquivo e selecione, eu irei fazer uma amostra com 2000 entradas. Se nosso tratamento funciona para um conjunto menor de dados, logo ele funciona para todo o conjunto.\n"
      ],
      "metadata": {
        "id": "I_OWLoJ5LoQw"
      }
    },
    {
      "cell_type": "markdown",
      "source": [
        "# Refazendo as importações "
      ],
      "metadata": {
        "id": "Zu50h-arMXcy"
      }
    },
    {
      "cell_type": "code",
      "source": [
        "!pip install apache_beam\n",
        "import re\n",
        "import apache_beam as beam\n",
        "from apache_beam.io import ReadFromText\n",
        "from apache_beam.io.textio import WriteToText\n",
        "from apache_beam.options.pipeline_options import PipelineOptions\n",
        "pipeline_options = PipelineOptions(argv = None)\n",
        "pipeline = beam.Pipeline(options = pipeline_options)"
      ],
      "metadata": {
        "id": "1pyguFZxMBfF",
        "colab": {
          "base_uri": "https://localhost:8080/"
        },
        "outputId": "ace78c05-fd77-4ca5-e33d-f2ec2f9b90e6"
      },
      "execution_count": null,
      "outputs": [
        {
          "output_type": "stream",
          "name": "stdout",
          "text": [
            "Looking in indexes: https://pypi.org/simple, https://us-python.pkg.dev/colab-wheels/public/simple/\n",
            "Requirement already satisfied: apache_beam in /usr/local/lib/python3.7/dist-packages (2.41.0)\n",
            "Requirement already satisfied: pyarrow<8.0.0,>=0.15.1 in /usr/local/lib/python3.7/dist-packages (from apache_beam) (6.0.1)\n",
            "Requirement already satisfied: cloudpickle<3,>=2.1.0 in /usr/local/lib/python3.7/dist-packages (from apache_beam) (2.2.0)\n",
            "Requirement already satisfied: httplib2<0.21.0,>=0.8 in /usr/local/lib/python3.7/dist-packages (from apache_beam) (0.17.4)\n",
            "Requirement already satisfied: protobuf<4,>=3.12.2 in /usr/local/lib/python3.7/dist-packages (from apache_beam) (3.20.2)\n",
            "Requirement already satisfied: requests<3.0.0,>=2.24.0 in /usr/local/lib/python3.7/dist-packages (from apache_beam) (2.28.1)\n",
            "Requirement already satisfied: typing-extensions>=3.7.0 in /usr/local/lib/python3.7/dist-packages (from apache_beam) (4.1.1)\n",
            "Requirement already satisfied: grpcio<2,>=1.33.1 in /usr/local/lib/python3.7/dist-packages (from apache_beam) (1.48.1)\n",
            "Requirement already satisfied: crcmod<2.0,>=1.7 in /usr/local/lib/python3.7/dist-packages (from apache_beam) (1.7)\n",
            "Requirement already satisfied: numpy<1.23.0,>=1.14.3 in /usr/local/lib/python3.7/dist-packages (from apache_beam) (1.21.6)\n",
            "Requirement already satisfied: pymongo<4.0.0,>=3.8.0 in /usr/local/lib/python3.7/dist-packages (from apache_beam) (3.12.3)\n",
            "Requirement already satisfied: proto-plus<2,>=1.7.1 in /usr/local/lib/python3.7/dist-packages (from apache_beam) (1.22.1)\n",
            "Requirement already satisfied: pytz>=2018.3 in /usr/local/lib/python3.7/dist-packages (from apache_beam) (2022.2.1)\n",
            "Requirement already satisfied: fastavro<2,>=0.23.6 in /usr/local/lib/python3.7/dist-packages (from apache_beam) (1.6.1)\n",
            "Requirement already satisfied: python-dateutil<3,>=2.8.0 in /usr/local/lib/python3.7/dist-packages (from apache_beam) (2.8.2)\n",
            "Requirement already satisfied: dill<0.3.2,>=0.3.1.1 in /usr/local/lib/python3.7/dist-packages (from apache_beam) (0.3.1.1)\n",
            "Requirement already satisfied: pydot<2,>=1.2.0 in /usr/local/lib/python3.7/dist-packages (from apache_beam) (1.3.0)\n",
            "Requirement already satisfied: orjson<4.0 in /usr/local/lib/python3.7/dist-packages (from apache_beam) (3.8.0)\n",
            "Requirement already satisfied: hdfs<3.0.0,>=2.1.0 in /usr/local/lib/python3.7/dist-packages (from apache_beam) (2.7.0)\n",
            "Requirement already satisfied: six>=1.5.2 in /usr/local/lib/python3.7/dist-packages (from grpcio<2,>=1.33.1->apache_beam) (1.15.0)\n",
            "Requirement already satisfied: docopt in /usr/local/lib/python3.7/dist-packages (from hdfs<3.0.0,>=2.1.0->apache_beam) (0.6.2)\n",
            "Requirement already satisfied: pyparsing>=2.1.4 in /usr/local/lib/python3.7/dist-packages (from pydot<2,>=1.2.0->apache_beam) (3.0.9)\n",
            "Requirement already satisfied: certifi>=2017.4.17 in /usr/local/lib/python3.7/dist-packages (from requests<3.0.0,>=2.24.0->apache_beam) (2022.6.15)\n",
            "Requirement already satisfied: urllib3<1.27,>=1.21.1 in /usr/local/lib/python3.7/dist-packages (from requests<3.0.0,>=2.24.0->apache_beam) (1.24.3)\n",
            "Requirement already satisfied: idna<4,>=2.5 in /usr/local/lib/python3.7/dist-packages (from requests<3.0.0,>=2.24.0->apache_beam) (2.10)\n",
            "Requirement already satisfied: charset-normalizer<3,>=2 in /usr/local/lib/python3.7/dist-packages (from requests<3.0.0,>=2.24.0->apache_beam) (2.1.1)\n"
          ]
        }
      ]
    },
    {
      "cell_type": "markdown",
      "source": [
        "# Trazendo os métodos de tratamento"
      ],
      "metadata": {
        "id": "kmMdImglMmBa"
      }
    },
    {
      "cell_type": "code",
      "source": [
        "def TextoParaLista(elemento,delimitador = '|'):\n",
        "  \"\"\"\n",
        "  Recebe um texto e um limitador\n",
        "  Retorna uma lista de elementos pelo delimitador\n",
        "  \"\"\"\n",
        "  return elemento.split(delimitador)"
      ],
      "metadata": {
        "id": "Y3eZ388jMugl"
      },
      "execution_count": null,
      "outputs": []
    },
    {
      "cell_type": "code",
      "source": [
        "colunas_dengue = [ #todas as colunas que vem do dataset\n",
        "'id',\n",
        "'data_iniSE',\n",
        "'casos',\n",
        "'ibge_code',\n",
        "'cidade',\n",
        "'uf',\n",
        "'cep',\n",
        "'latitude',\n",
        "'longitude']"
      ],
      "metadata": {
        "id": "l40Z7-UlMwxA"
      },
      "execution_count": null,
      "outputs": []
    },
    {
      "cell_type": "code",
      "source": [
        "def ListaParaDicionario(elemento, colunas):\n",
        "  \"\"\"\n",
        "  Recebe duas listas e retorna um dicionário\n",
        "  \"\"\"\n",
        "  return dict(zip(colunas, elemento))"
      ],
      "metadata": {
        "id": "8wms3n9JM0B5"
      },
      "execution_count": null,
      "outputs": []
    },
    {
      "cell_type": "code",
      "source": [
        "def TrataDatas(elemento):\n",
        "  \"\"\"\n",
        "  Recebe um dicionário e cria um novo campo com ano-mês\n",
        "  \"\"\"\n",
        "  elemento['ano-mes'] = '-'.join(elemento['data_iniSE'].split('-')[:2])\n",
        "  #Supondo que temos a data 2022-05-18 o split retornará uma lista com ['2022','05','18']\n",
        "  #Então fariaremos a lista usando um [:2] no final pegando as informações até o segundo elemento\n",
        "  #Aplicamos também o join com o parâmetro '-' que nos retornará uma STRING no formato 2022-05\n",
        "  return elemento"
      ],
      "metadata": {
        "id": "XnxwFwWsM2o4"
      },
      "execution_count": null,
      "outputs": []
    },
    {
      "cell_type": "code",
      "source": [
        "def ChaveUf(elemento):\n",
        "  \"\"\"\n",
        "  Receber um dicionário\n",
        "  Retornar uma tupla com o estado(uf) e o elemento\n",
        "  \"\"\"\n",
        "  chave = elemento['uf']\n",
        "  return (chave, elemento)"
      ],
      "metadata": {
        "id": "M92dBIrkM4xd"
      },
      "execution_count": null,
      "outputs": []
    },
    {
      "cell_type": "code",
      "source": [
        "def CasosDengue(elemento):\n",
        "  \"\"\"\n",
        "  Recebe uma tupla (RS, [{},{}])\n",
        "  Retorna uma tupla ('RS-2014-12, 8')\n",
        "  \"\"\"\n",
        "  uf, registros = elemento\n",
        "  for registro in registros:\n",
        "    if bool(re.search(r'\\d', registro['casos'])):\n",
        "      yield (f\"{uf}-{registro['ano-mes']}\", float(registro['casos'])) #Diferente do return o yield vai executar até retornar todos os elementos\n",
        "    else:\n",
        "      yield (f\"{uf}-{registro['ano-mes']}\", 0.0)"
      ],
      "metadata": {
        "id": "F-_V7iybM6gd"
      },
      "execution_count": null,
      "outputs": []
    },
    {
      "cell_type": "code",
      "source": [
        "def ChaveUfMes(elemento):\n",
        "  \"\"\"\n",
        "  Receber uma lista de elementos\n",
        "  Retorna uma tupla ('UF-ANO-MES', casos)\n",
        "  \"\"\"\n",
        "  data, mm, uf = elemento\n",
        "  ano_mes = '-'.join(data.split('-')[:2])\n",
        "  chave = f'{uf}-{ano_mes}'\n",
        "  if float(mm) < 0:\n",
        "    mm = 0.0\n",
        "  else:\n",
        "    mm = float(mm)\n",
        "  return chave, mm"
      ],
      "metadata": {
        "id": "OwpvRsJCM_mR"
      },
      "execution_count": null,
      "outputs": []
    },
    {
      "cell_type": "code",
      "source": [
        "def arredonda(elemento):\n",
        "  \"\"\"\n",
        "  Recebe um elemento \n",
        "  retorna o float com uma ou duas casas decimais.\n",
        "  \"\"\"\n",
        "  chave, mm = elemento\n",
        "  return (chave, round(mm,1))"
      ],
      "metadata": {
        "id": "RsSqtarSNAb0"
      },
      "execution_count": null,
      "outputs": []
    },
    {
      "cell_type": "markdown",
      "source": [
        "# Novos Métodos"
      ],
      "metadata": {
        "id": "-H-cD0Lac1ld"
      }
    },
    {
      "cell_type": "markdown",
      "source": [
        "Temos que evitar que existam espaços vazios no arquivo. Podemos ter varios casos de dengue num determinado mês e nenhuma chuva e então quando colocarmos o arquivo total, teremos vários buracos. Teremos que aplicar um filtro para remover esses casos"
      ],
      "metadata": {
        "id": "7M49NmFkc94Y"
      }
    },
    {
      "cell_type": "code",
      "source": [
        "def FiltraCamposVazios(elemento):\n",
        "  \"\"\"\n",
        "  Remove elementos que contenam chaves vazias\n",
        "  \"\"\"\n",
        "  chave, dados = elemento\n",
        "  if all([dados['chuvas'], dados['dengue']]):\n",
        "      return True\n",
        "  return False"
      ],
      "metadata": {
        "id": "aj1nFqZXc8M9"
      },
      "execution_count": null,
      "outputs": []
    },
    {
      "cell_type": "code",
      "source": [
        "def DescompactarElementos(elem):\n",
        "  \"\"\"\n",
        "  Recebe uma tupla ('CE-2015-01', {'chuvas': [85.8], 'dengue': [175.0]})\n",
        "  retorna uma tupla ('CE', '2015', '11', '0.4', '21.0')\n",
        "  \"\"\"\n",
        "  chave, dados = elem\n",
        "  chuva = dados['chuvas'][0]\n",
        "  dengue = dados['dengue'][0]\n",
        "  uf, ano, mes = chave.split('-')\n",
        "  return uf, ano, mes, str(chuva), str(dengue)"
      ],
      "metadata": {
        "id": "91MoA_Psp2Qt"
      },
      "execution_count": null,
      "outputs": []
    },
    {
      "cell_type": "code",
      "source": [
        "def PrepararCSV(elem, delimitador = ';'):\n",
        "  \"\"\"\n",
        "  Recebe uma tupla ('CE', 2015, 01, 85.8, 175.0)\n",
        "  Retornar uma string delimitada \"CE;2015;01;85.8;175.0\"\n",
        "  \"\"\"\n",
        "  return f\"{delimitador}\".join(elem)"
      ],
      "metadata": {
        "id": "LOSSD_-VtkZP"
      },
      "execution_count": null,
      "outputs": []
    },
    {
      "cell_type": "markdown",
      "source": [
        "# Pcollections"
      ],
      "metadata": {
        "id": "kYlnjqhyNIdO"
      }
    },
    {
      "cell_type": "code",
      "execution_count": null,
      "metadata": {
        "id": "6JmqppDMLVGO",
        "colab": {
          "base_uri": "https://localhost:8080/"
        },
        "outputId": "a4a6ce51-1f5b-4f0c-ea20-375130a44c37"
      },
      "outputs": [
        {
          "output_type": "stream",
          "name": "stderr",
          "text": [
            "WARNING:apache_beam.options.pipeline_options:Discarding unparseable args: ['-f', '/root/.local/share/jupyter/runtime/kernel-2bf77a3c-ab6f-4e2a-83d6-c5c372206f52.json']\n",
            "WARNING:apache_beam.options.pipeline_options:Discarding invalid overrides: {'argv': None}\n",
            "WARNING:apache_beam.options.pipeline_options:Discarding unparseable args: ['-f', '/root/.local/share/jupyter/runtime/kernel-2bf77a3c-ab6f-4e2a-83d6-c5c372206f52.json']\n",
            "WARNING:apache_beam.options.pipeline_options:Discarding invalid overrides: {'argv': None}\n"
          ]
        },
        {
          "output_type": "execute_result",
          "data": {
            "text/plain": [
              "<apache_beam.runners.portability.fn_api_runner.fn_runner.RunnerResult at 0x7fe671c87610>"
            ]
          },
          "metadata": {},
          "execution_count": 101
        }
      ],
      "source": [
        "from apache_beam.io.textio import WriteToText\n",
        "\n",
        "dengue = (\n",
        "    pipeline\n",
        "    | \"Leitura do dataset de dengue\" >>\n",
        "      ReadFromText('sample_casos_dengue.txt', skip_header_lines=1) #pular a primeira linha com o skip_header\n",
        "    | \"De texto para lista\"  >> beam.Map(TextoParaLista)\n",
        "    | \"Lista para dicionário\" >> beam.Map(ListaParaDicionario, colunas_dengue)\n",
        "    | \"Criar campo ano-mês\" >> beam.Map(TrataDatas)\n",
        "    | \"Criar chave pelo estado\" >> beam.Map(ChaveUf)\n",
        "    | \"Agrupor por estado\" >> beam.GroupByKey()\n",
        "    | \"Descompactar casos de dengue\" >> beam.FlatMap(CasosDengue)\n",
        "    | \"Soma dos casos pela chave\" >> beam.CombinePerKey(sum) #lembrar de converter os dados para ponto flutuante\n",
        "    #| \"Mostrar resultados\" >> beam.Map(print) \n",
        "\n",
        ")\n",
        "\n",
        "\n",
        "chuvas = (\n",
        "    pipeline\n",
        "    | \"Leitura do dataset de chuvas\" >>\n",
        "      ReadFromText('sample_chuvas.csv', skip_header_lines=1)\n",
        "    | \"De texto para lista (chuvas)\"  >> beam.Map(TextoParaLista,delimitador = ',') #reutilizando o método anterior só mudando separador\n",
        "    | \"Criando chave UF-ANO-MES\" >> beam.Map(ChaveUfMes)\n",
        "    | \"Combinando o total de chuvas pela chave\" >> beam.CombinePerKey(sum)\n",
        "    | \"Arredondar resultados de chuvas\" >> beam.Map(arredonda)\n",
        "    #| \"Mostrar resultados das chuvas\" >> beam.Map(print) \n",
        ")\n",
        "\n",
        "\n",
        "# Juntaremos as Pcollections para a mesma chave.\n",
        "# Somente com o tratamento abaixo:\n",
        "#    | \"Mesclar pcols\" >> beam.CoGroupByKey()\n",
        "#    | \"Filtrar dados vazios\" >> beam.Filter(FiltraCamposVazios)\n",
        "# Tereiamos somente um resultado com ('CE-2015-01', {'chuvas': [85.8], 'dengue': [175.0]})\n",
        "# Precisamos descompactar esses dados na forma ('CE', 2015, 11, 0.4, 21.0)\n",
        "#    | \"Descompactar elementos\" >> beam.Map(DescompactarElementos)\n",
        "# Com esse acréscimo temos uma tupla com os elementos tratados\n",
        "# Agora precisamos retornar esse resultado em um arquivo de texto separado por vírgulas\n",
        "# Faremos a seguinte transformações\n",
        "# ('CE', 2015, 1, 85.8, 175.0) => \"CE,2015,01,85.8,175.0\"\n",
        "# Para esse tratamento e salvar num novo CSV usaremos a seguinte linha de comando: \n",
        "#     | \"Preparar csv\" >> beam.Map(PrepararCSV)\n",
        "resultado = (\n",
        "    \n",
        "    ({'chuvas': chuvas,'dengue': dengue})\n",
        "    | \"Mesclar pcols\" >> beam.CoGroupByKey()\n",
        "    | \"Filtrar dados vazios\" >> beam.Filter(FiltraCamposVazios)\n",
        "    | \"Descompactar elementos\" >> beam.Map(DescompactarElementos)\n",
        "    | \"Preparar csv\" >> beam.Map(PrepararCSV)\n",
        "    #| \"Mostrar resultados da União\" >> beam.Map(print)\n",
        ")\n",
        "\n",
        "header = 'UF;ANO;MES;CHUVA;DENGUE'\n",
        "\n",
        "resultado | 'Criar arquivo CSV' >> WriteToText('resultado', file_name_suffix='.csv', header = header)\n",
        "\n",
        "pipeline.run()\n"
      ]
    }
  ]
}